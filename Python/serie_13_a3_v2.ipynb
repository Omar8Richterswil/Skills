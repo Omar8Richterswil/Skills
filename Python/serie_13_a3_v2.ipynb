{
 "cells": [
  {
   "cell_type": "markdown",
   "metadata": {},
   "source": [
    "### Serie 13, Aufg. 3)"
   ]
  },
  {
   "cell_type": "code",
   "execution_count": 1,
   "metadata": {},
   "outputs": [],
   "source": [
    "# a) gelöst mit dem klassischen RK4\n",
    "import numpy as np\n",
    "\n",
    "def rk4(f,a,b,y0,h):\n",
    "    n = np.int((b-a)/h)\n",
    "    \n",
    "    x = np.linspace(a,b,n+1)\n",
    "    y = np.zeros((y0.size,n+1))\n",
    "    \n",
    "    # AB\n",
    "    y[:,0] = y0\n",
    "    \n",
    "    for i in range(n):\n",
    "        k1 = f(x[i],y[:,i])\n",
    "        k2 = f(x[i]+h/2,y[:,i]+h/2*k1)\n",
    "        k3 = f(x[i]+h/2,y[:,i]+h/2*k2)\n",
    "        k4 = f(x[i]+h,y[:,i]+h*k3)\n",
    "        \n",
    "        y[:,i+1] = y[:,i] + h/6*(k1 + 2*k2 + 2*k3 + k4)\n",
    "        \n",
    "    return (x,y)"
   ]
  },
  {
   "cell_type": "code",
   "execution_count": 2,
   "metadata": {},
   "outputs": [],
   "source": [
    "# DGL-System\n",
    "m = 97e3\n",
    "c = 570e3\n",
    "f = lambda x,z: np.array([z[1], -5/m*z[1]**2-c/m])"
   ]
  },
  {
   "cell_type": "code",
   "execution_count": 3,
   "metadata": {},
   "outputs": [],
   "source": [
    "# Lösen des DGL-Systems\n",
    "x,z = rk4(f,0,20,np.array([0,100]),0.1)"
   ]
  },
  {
   "cell_type": "code",
   "execution_count": 4,
   "metadata": {},
   "outputs": [
    {
     "data": {
      "text/plain": [
       "<matplotlib.legend.Legend at 0x7fba787d8700>"
      ]
     },
     "execution_count": 4,
     "metadata": {},
     "output_type": "execute_result"
    },
    {
     "data": {
      "image/png": "[encoded data removed]",
      "text/plain": [
       "<Figure size 432x288 with 1 Axes>"
      ]
     },
     "metadata": {
      "needs_background": "light"
     },
     "output_type": "display_data"
    }
   ],
   "source": [
    "# b)\n",
    "# Graphische Darstellung\n",
    "import matplotlib.pyplot as plt\n",
    "plt.plot(x,z[0,:], label='x(t)')\n",
    "plt.plot(x,z[1,:], label='v(t)')\n",
    "plt.xlabel('t (s)')\n",
    "plt.legend()"
   ]
  },
  {
   "cell_type": "code",
   "execution_count": null,
   "metadata": {},
   "outputs": [],
   "source": []
  }
 ],
 "metadata": {
  "kernelspec": {
   "display_name": "Python 3",
   "language": "python",
   "name": "python3"
  },
  "language_info": {
   "codemirror_mode": {
    "name": "ipython",
    "version": 3
   },
   "file_extension": ".py",
   "mimetype": "text/x-python",
   "name": "python",
   "nbconvert_exporter": "python",
   "pygments_lexer": "ipython3",
   "version": "3.8.3"
  }
 },
 "nbformat": 4,
 "nbformat_minor": 4
}
